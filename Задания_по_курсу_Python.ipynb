{
  "nbformat": 4,
  "nbformat_minor": 0,
  "metadata": {
    "colab": {
      "provenance": []
    },
    "kernelspec": {
      "name": "python3",
      "display_name": "Python 3"
    },
    "language_info": {
      "name": "python"
    }
  },
  "cells": [
    {
      "cell_type": "markdown",
      "source": [
        "# Практические задания в курсе \"Python: основы и применение\" (Stepik)"
      ],
      "metadata": {
        "id": "Rtex8nwP1eTp"
      }
    },
    {
      "cell_type": "markdown",
      "source": [
        "## Задача 1"
      ],
      "metadata": {
        "id": "KVC4lkKt2nDP"
      }
    },
    {
      "cell_type": "markdown",
      "source": [
        "Реализуйте программу, которая принимает последовательность чисел и выводит их сумму.\n",
        "\n",
        "Вашей программе на вход подается последовательность строк.\n",
        "Первая строка содержит число n (1 ≤ n ≤ 100).\n",
        "В следующих n строках содержится по одному целому числу.\n",
        "\n",
        "Выведите одно число – сумму данных n чисел."
      ],
      "metadata": {
        "id": "2GMungIA2uZV"
      }
    },
    {
      "cell_type": "code",
      "source": [
        "n=int(input())\n",
        "lst = []\n",
        "for i in range (n):\n",
        "  a=int(input())\n",
        "  lst.append(a)\n",
        "print(sum(lst))"
      ],
      "metadata": {
        "id": "pPpxboI1hf9w",
        "colab": {
          "base_uri": "https://localhost:8080/"
        },
        "outputId": "b42bc25c-3060-411a-938d-93a6bef53f93"
      },
      "execution_count": null,
      "outputs": [
        {
          "output_type": "stream",
          "name": "stdout",
          "text": [
            "2\n",
            "2\n",
            "3\n",
            "5\n"
          ]
        }
      ]
    },
    {
      "cell_type": "markdown",
      "source": [
        "## Задача 2"
      ],
      "metadata": {
        "id": "ujPPNQNp2J_W"
      }
    },
    {
      "cell_type": "markdown",
      "source": [
        "Реализуйте программу, которая будет вычислять количество различных объектов в списке.\n",
        "Два объекта a и b считаются различными, если a is b равно False.\n",
        "\n",
        "Вашей программе доступна переменная с названием objects, которая ссылается на список, содержащий не более 100 объектов. Выведите количество различных объектов в этом списке.\n",
        "\n",
        "Примечание:\n",
        "Количеством различных объектов называется максимальный размер множества объектов, в котором любые два объекта являются различными."
      ],
      "metadata": {
        "id": "8KU78ITbE8T1"
      }
    },
    {
      "cell_type": "code",
      "source": [
        "#1\n",
        "ans = 0\n",
        "unique_id = []\n",
        "for obj1 in objects: # доступная переменная objects\n",
        "    for obj2 in objects:\n",
        "      if id(obj1) == id(obj2):\n",
        "        unique_id.append(id(obj1))\n",
        "\n",
        "print(len(set(unique_id)))"
      ],
      "metadata": {
        "colab": {
          "base_uri": "https://localhost:8080/"
        },
        "id": "JEvzcYuoE5Qz",
        "outputId": "597973fc-5a5b-4cab-a813-9fa960b9ed96"
      },
      "execution_count": null,
      "outputs": [
        {
          "output_type": "stream",
          "name": "stdout",
          "text": [
            "3\n"
          ]
        }
      ]
    },
    {
      "cell_type": "code",
      "source": [
        "#2\n",
        "unique_id = []\n",
        "for obj in objects:\n",
        "  unique_id.append(id(obj))\n",
        "print(len(set(unique_id)))"
      ],
      "metadata": {
        "colab": {
          "base_uri": "https://localhost:8080/"
        },
        "id": "U-rDVTkIlhYS",
        "outputId": "cf77f585-396b-49a6-a281-7b59e84cb8ae"
      },
      "execution_count": null,
      "outputs": [
        {
          "output_type": "stream",
          "name": "stdout",
          "text": [
            "9\n"
          ]
        }
      ]
    },
    {
      "cell_type": "code",
      "source": [
        "objects = [1, 2, 1, 2, 3]"
      ],
      "metadata": {
        "id": "eDI8OLr-IKSF"
      },
      "execution_count": null,
      "outputs": []
    },
    {
      "cell_type": "code",
      "source": [
        "objects = [1, 2, 1, 5, True, False, True, 'false', [], [1,2], [1,2]]"
      ],
      "metadata": {
        "id": "16V3K8kmS3c2"
      },
      "execution_count": null,
      "outputs": []
    },
    {
      "cell_type": "markdown",
      "source": [
        "## Задача 3"
      ],
      "metadata": {
        "id": "V5qbb-K82bjl"
      }
    },
    {
      "cell_type": "markdown",
      "source": [
        "Напишите реализацию функции closest_mod_5, принимающую в качестве единственного аргумента целое число x и возвращающую самое маленькое целое число y, такое что:\n",
        "\n",
        "y больше или равно x\n",
        "y делится нацело на 5"
      ],
      "metadata": {
        "id": "vmPodxY50dlu"
      }
    },
    {
      "cell_type": "code",
      "source": [
        "def closest_mod_5(x):\n",
        "    if x % 5 == 0:\n",
        "        return x\n",
        "    return ((x//5)+1)*5"
      ],
      "metadata": {
        "id": "HJlp4UtLf15p"
      },
      "execution_count": null,
      "outputs": []
    },
    {
      "cell_type": "code",
      "source": [
        "closest_mod_5(13)"
      ],
      "metadata": {
        "colab": {
          "base_uri": "https://localhost:8080/"
        },
        "id": "jHnnM9Ryz59L",
        "outputId": "936d79de-afef-4bca-ce72-85dc4d628a10"
      },
      "execution_count": null,
      "outputs": [
        {
          "output_type": "execute_result",
          "data": {
            "text/plain": [
              "15"
            ]
          },
          "metadata": {},
          "execution_count": 44
        }
      ]
    },
    {
      "cell_type": "markdown",
      "source": [
        "## Задача 4"
      ],
      "metadata": {
        "id": "9NzhSdPM2gSp"
      }
    },
    {
      "cell_type": "markdown",
      "source": [
        "Сочетанием из n элементов по k называется подмножество этих n элементов размера k.\n",
        "Два сочетания называются различными, если одно из сочетаний содержит элемент, который не содержит другое.\n",
        "Числом сочетаний из n по k называется количество различных сочетаний из n по k. Обозначим это число за C(n, k).\n",
        "\n",
        "Пример:\n",
        "Пусть n = 3, т. е. есть три элемента (1, 2, 3). Пусть k = 2.\n",
        "Все различные сочетания из 3 элементов по 2: (1, 2), (1, 3), (2, 3).\n",
        "Различных сочетаний три, поэтому C(3, 2) = 3.\n",
        "\n",
        "Несложно понять, что C(n, 0) = 1, так как из n элементов выбрать 0 можно единственным образом, а именно, ничего не выбрать.\n",
        "Также несложно понять, что если k > n, то C(n, k) = 0, так как невозможно, например, из трех элементов выбрать пять.\n",
        "\n",
        "Для вычисления C(n, k) в других случаях используется следующая рекуррентная формула:\n",
        "C(n, k) = C(n - 1, k) + C(n - 1, k - 1).\n",
        "\n",
        "Реализуйте программу, которая для заданных n и k вычисляет C(n, k).\n",
        "\n",
        "Вашей программе на вход подается строка, содержащая два целых числа n и k (1 ≤ n ≤ 10, 0 ≤ k ≤ 10).\n",
        "Ваша программа должна вывести единственное число: C(n, k)."
      ],
      "metadata": {
        "id": "0TmiHFYW3lqt"
      }
    },
    {
      "cell_type": "code",
      "source": [
        "n, k = map(int, input().split())\n",
        "def Combi (n, k):\n",
        "    if k==0:\n",
        "        return 1\n",
        "    elif k>n:\n",
        "        return 0\n",
        "    else:\n",
        "        return Combi (n - 1, k) + Combi(n - 1, k - 1)\n",
        "\n",
        "print(Combi (n, k))"
      ],
      "metadata": {
        "id": "528zbKijz_AX",
        "colab": {
          "base_uri": "https://localhost:8080/"
        },
        "outputId": "c84fe041-b3da-4524-cc37-f0fb0ab4d06a"
      },
      "execution_count": 1,
      "outputs": [
        {
          "output_type": "stream",
          "name": "stdout",
          "text": [
            "10 5\n",
            "252\n"
          ]
        }
      ]
    }
  ]
}